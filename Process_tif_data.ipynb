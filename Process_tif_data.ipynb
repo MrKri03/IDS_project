{
 "cells": [
  {
   "cell_type": "markdown",
   "id": "2ea300fb-a434-47d4-9f72-8b32a50d330b",
   "metadata": {},
   "source": [
    "## This notebook does the following:"
   ]
  },
  {
   "cell_type": "markdown",
   "id": "62fb001a-316c-4450-8830-cd652f166a06",
   "metadata": {},
   "source": [
    " <li>\"Breaks\" the stacks of CIR and RGB</li>\n",
    " <li>Gets the bands Red, Green, Blue and Near Infrared and stacks them</li>\n",
    " <li>Processes and merges the DSM (in this notebook, not run)</li>"
   ]
  },
  {
   "cell_type": "code",
   "execution_count": 1,
   "id": "91df9608-48ef-4f43-bb6d-dd404a714296",
   "metadata": {},
   "outputs": [],
   "source": [
    "import rasterio as rio\n",
    "import numpy as np\n",
    "import geopandas as gpd\n",
    "import pandas as pd"
   ]
  },
  {
   "cell_type": "code",
   "execution_count": 5,
   "id": "09b2004d-dc0a-4877-8276-a660a225d894",
   "metadata": {},
   "outputs": [],
   "source": [
    "import rasterio.mask"
   ]
  },
  {
   "cell_type": "code",
   "execution_count": 2,
   "id": "eed1876b-0ccf-4acc-b26c-13180590406d",
   "metadata": {},
   "outputs": [],
   "source": [
    "import os\n",
    "import glob"
   ]
  },
  {
   "cell_type": "code",
   "execution_count": null,
   "id": "df531e51-bd4d-4f3f-b04e-30a43b385110",
   "metadata": {},
   "outputs": [],
   "source": []
  },
  {
   "cell_type": "markdown",
   "id": "71a94452-6f15-4131-936b-521241f23798",
   "metadata": {},
   "source": [
    "## \"Break\" the multiband .tif data to get single bands <br> We get Near Infrarred from CIR orthophotos and Red, Green and Blue from RGB orthophotos <br> Both areas are processed"
   ]
  },
  {
   "cell_type": "code",
   "execution_count": 3,
   "id": "7eda59cf-b0ac-4f30-a5fc-11d1ca635bae",
   "metadata": {},
   "outputs": [
    {
     "name": "stdout",
     "output_type": "stream",
     "text": [
      ".\\raster\\54752_cir.tif\n",
      "single band:  nir_54752.tif\n",
      ".\\raster\\54752_rgb.tif\n",
      "single band:  red_54752.tif\n",
      "single band:  green_54752.tif\n",
      "single band:  blue_54752.tif\n",
      ".\\raster\\54761_cir.tif\n",
      "single band:  nir_54761.tif\n",
      ".\\raster\\54761_rgb.tif\n",
      "single band:  red_54761.tif\n",
      "single band:  green_54761.tif\n",
      "single band:  blue_54761.tif\n"
     ]
    }
   ],
   "source": [
    "\n",
    "folder = r\".\\raster\"\n",
    "suff = ['cir','rgb']\n",
    "\n",
    "data_tiff = [ tif for tif in list(glob.glob(os.path.join(folder, \"*.tif\") )) if any(x in tif for x in suff  )]# This tif has 3 bands and we want to split them\n",
    "\n",
    "\n",
    "wavel = [\"red\",\"green\",\"blue\", \"nir\"] # wavelengths to name the \"splitted \" bands\n",
    "\n",
    "\n",
    "for tifs in data_tiff:\n",
    "    \n",
    "    print(tifs)\n",
    "    \n",
    "    if tifs.endswith(\"cir.tif\"):\n",
    "        name_tif = tifs.split(\"_\")[0].split(\"\\\\\")[-1]\n",
    "        \n",
    "        with rio.open(tifs) as src:\n",
    "            out_meta = src.meta.copy()\n",
    "            \n",
    "            single_band = src.read(1) # Near infrarred is the first band in the target stack. Get only this one\n",
    "            \n",
    "            out_meta.update({\"count\": 1}) \n",
    "            \n",
    "            out_name = wavel[wavel.index('nir')]+\"_\"+name_tif+\".tif\"\n",
    "\n",
    "            out_img = os.path.join(folder, out_name)\n",
    "             #save the clipped raster to disk\n",
    "            with rio.open(out_img, \"w\", **out_meta) as dest:\n",
    "                dest.write(single_band,1)\n",
    "            print(\"single band: \",out_name)\n",
    "                 \n",
    "    else:  \n",
    "        with rio.open(tifs) as src: \n",
    "            i = 0\n",
    "            out_meta = src.meta.copy()\n",
    "                   \n",
    "            for band in range(1, src.count+1):\n",
    "                single_band = src.read(band) # BANDS ARE ORDERED AS RGB. Get all of them\n",
    "        \n",
    "                out_name = wavel[i]+\"_\"+name_tif+\".tif\"\n",
    "                out_img = os.path.join(folder, out_name)\n",
    "\n",
    "                out_meta.update({\"count\": 1})\n",
    "\n",
    "                # save the clipped raster to disk\n",
    "                with rio.open(out_img, \"w\", **out_meta) as dest:\n",
    "                    dest.write(single_band,1)\n",
    "                print(\"single band: \",out_name)\n",
    "                \n",
    "                i = i +1\n",
    "        \n"
   ]
  },
  {
   "cell_type": "markdown",
   "id": "f9ed4e44-ba6e-4c57-9b2b-37dad7a0069a",
   "metadata": {},
   "source": [
    "## Clip the single bands according to the study areas"
   ]
  },
  {
   "cell_type": "code",
   "execution_count": 8,
   "id": "fb49a618-7937-4ba8-bd5e-10162f088da7",
   "metadata": {},
   "outputs": [
    {
     "name": "stdout",
     "output_type": "stream",
     "text": [
      "epsg:3301\n",
      ".\\raster\\blue_54752_clip_area_1.tif\n",
      ".\\raster\\blue_54752_clip_area_2.tif\n",
      ".\\raster\\blue_54761_clip_area_3.tif\n",
      ".\\raster\\green_54752_clip_area_1.tif\n",
      ".\\raster\\green_54752_clip_area_2.tif\n",
      ".\\raster\\green_54761_clip_area_3.tif\n",
      ".\\raster\\nir_54752_clip_area_1.tif\n",
      ".\\raster\\nir_54752_clip_area_2.tif\n",
      ".\\raster\\nir_54761_clip_area_3.tif\n",
      ".\\raster\\red_54752_clip_area_1.tif\n",
      ".\\raster\\red_54752_clip_area_2.tif\n",
      ".\\raster\\red_54761_clip_area_3.tif\n"
     ]
    }
   ],
   "source": [
    "\n",
    "folder = r\".\\raster\"\n",
    "\n",
    "study_areas = gpd.read_file(r\".\\vector\\Study_areas.shp\")\n",
    "print(study_areas.crs)\n",
    "\n",
    "preff = [ \"nir\",\"red\",\"green\",\"blue\"]\n",
    "\n",
    "data_tiff = [ tif for tif in list(glob.glob(os.path.join(folder, \"*.tif\") )) if any([tif.split(\"_\")[0].split(\"\\\\\")[-1].startswith(item) for item in preff])]\n",
    "\n",
    "\n",
    "\n",
    "for tif in data_tiff:\n",
    "    \n",
    "    i = 0\n",
    "    for area in study_areas['area_n'].unique():\n",
    "        \n",
    "        \n",
    "        if (area == \"area_2\" or area == \"area_1\" ) and ( tif.split(\"\\\\\")[-1].split(\"_\")[1].split(\".\")[0] == \"54752\" ):\n",
    "            \n",
    "            selection = study_areas.loc[study_areas['area_n'] == area]\n",
    "            \n",
    "            with rio.open(tif) as src:\n",
    "                #clip (mask)\n",
    "                out_image, out_transform = rio.mask.mask(src,selection['geometry'], all_touched = True, crop=True) ## Check again\n",
    "                \n",
    "                out_meta = src.meta\n",
    "                src.close()\n",
    "                \n",
    "            out_meta.update({\"driver\": \"GTiff\",\n",
    "                         \"height\": out_image.shape[1],\n",
    "                         \"width\": out_image.shape[2],\n",
    "                         \"transform\": out_transform})\n",
    "\n",
    "            out_clip = tif.replace(\".tif\", \"_clip_\"+area+\".tif\")\n",
    "            \n",
    "            with rio.open(out_clip, \"w\", **out_meta) as dest:\n",
    "                dest.write(out_image)\n",
    "                print(out_clip)\n",
    "                \n",
    "        \n",
    "        elif (area == \"area_3\" ) and ( tif.split(\"\\\\\")[-1].split(\"_\")[1].split(\".\")[0] == \"54761\" ):\n",
    "            selection = study_areas.loc[study_areas['area_n'] == area]\n",
    "            \n",
    "            with rio.open(tif) as src:\n",
    "                 #clip (mask)\n",
    "                out_image, out_transform = rio.mask.mask(src,selection['geometry'], all_touched = True, crop=True) ## Check again\n",
    "\n",
    "                out_meta = src.meta\n",
    "                src.close()\n",
    "\n",
    "            out_meta.update({\"driver\": \"GTiff\",\n",
    "                             \"height\": out_image.shape[1],\n",
    "                             \"width\": out_image.shape[2],\n",
    "                             \"transform\": out_transform})\n",
    "\n",
    "            out_clip = tif.replace(\".tif\", \"_clip_\"+area+\".tif\")\n",
    "\n",
    "            with rio.open(out_clip, \"w\", **out_meta) as dest:\n",
    "                dest.write(out_image)\n",
    "                print(out_clip)\n",
    "   "
   ]
  },
  {
   "cell_type": "markdown",
   "id": "29584a20-34ac-4d74-a290-9fdbc3a7e5cc",
   "metadata": {},
   "source": [
    "## STACK the bands to a .tif with 4 bands: NIR - RED - GREEN - BLUE. Decreasing order of wavelength"
   ]
  },
  {
   "cell_type": "code",
   "execution_count": 10,
   "id": "6d034f97-c644-48c6-9a0f-dcef3426120b",
   "metadata": {},
   "outputs": [
    {
     "name": "stdout",
     "output_type": "stream",
     "text": [
      ".\\raster\\blue_54752_clip_area_1.tif .\\raster\\green_54752_clip_area_1.tif .\\raster\\red_54752_clip_area_1.tif .\\raster\\nir_54752_clip_area_1.tif\n",
      "band .\\raster\\54752_clip_area_1_STK.tif saved\n",
      "--\n",
      ".\\raster\\blue_54752_clip_area_2.tif .\\raster\\green_54752_clip_area_2.tif .\\raster\\red_54752_clip_area_2.tif .\\raster\\nir_54752_clip_area_2.tif\n",
      "band .\\raster\\54752_clip_area_2_STK.tif saved\n",
      "--\n",
      ".\\raster\\blue_54761_clip_area_3.tif .\\raster\\green_54761_clip_area_3.tif .\\raster\\red_54761_clip_area_3.tif .\\raster\\nir_54761_clip_area_3.tif\n",
      "band .\\raster\\54761_clip_area_3_STK.tif saved\n",
      "--\n",
      "FINISHED------\n"
     ]
    }
   ],
   "source": [
    "folder = r\".\\raster\"\n",
    "preff = [ \"nir\",\"red\",\"green\",\"blue\"]\n",
    "\n",
    "\n",
    "# The following list gets bands by ALPHABETICAL order.  \n",
    "data_tiff = [ tif for tif in list(glob.glob(os.path.join(folder, \"*.tif\") )) \\\n",
    "             if any([(tif.split(\"_\")[0].split(\"\\\\\")[-1].startswith(item)) for item in preff]) \\\n",
    "             and (\"clip\" in tif)]\n",
    "\n",
    "# Iterate in each area.\n",
    "for area in study_areas['area_n'].unique():\n",
    "    \n",
    "    bands_each_area = [element for element in data_tiff \\\n",
    "                  if element.split(\".\")[-2][-6:] == area] # Select bands from one specific area to stack them. THIS IS THE MAIN LIST\n",
    "    \n",
    "    # select near infrared ONLY and keep it.\n",
    "    data_tiff_nir = [tif for tif in bands_each_area if (\"nir\" in tif  )][0]\n",
    "    \n",
    "  \n",
    "    # remove from the MAIN LIST the NIR band\n",
    "    bands_each_area.remove(data_tiff_nir)\n",
    "\n",
    "    # inssert in the last place the NIR band. \n",
    "    bands_each_area.insert(len(bands_each_area), data_tiff_nir)\n",
    "    \n",
    "    #Then , check that all are in correct order\n",
    "    print(\" \".join(bands_each_area))\n",
    "\n",
    "    \n",
    "    with rio.open(bands_each_area[1]) as src0:\n",
    "        meta = src0.meta # get the metadata (profile) of any of the band. In here, just the first one, and close it.\n",
    "        src0.close()\n",
    "      # Update meta to reflect the number of layers\n",
    "    meta.update(count = len(bands_each_area))\n",
    "    # Read each layer and write it to stack\n",
    "    \n",
    "    output_stack = os.path.join(folder,bands_each_area[0][bands_each_area[0].find(\"_\")+1:-4]+\"_STK.tif\")\n",
    "    \n",
    "    with rio.open(output_stack, 'w', **meta) as dst:\n",
    "        for id, layer in enumerate(bands_each_area, start=1):\n",
    "            with rio.open(layer) as src1:\n",
    "                dst.write_band(id, src1.read(1))\n",
    "        print(\"band\",output_stack, \"saved\")\n",
    "        print(\"--\")\n",
    "        dst.close()\n",
    "        \n",
    "print(\"FINISHED------\")\n"
   ]
  },
  {
   "cell_type": "markdown",
   "id": "f90e99c5-d882-4d47-878f-0c7feb947b63",
   "metadata": {},
   "source": [
    "## Process Digital Surface models within the study areas"
   ]
  },
  {
   "cell_type": "code",
   "execution_count": null,
   "id": "6b599514-8498-4d0d-85f7-73ebaa2b6ba9",
   "metadata": {},
   "outputs": [],
   "source": [
    "#downloaded digital surface model DSM resolution 1m\n",
    "#GeoTIFFhttps://geoportaal.maaamet.ee/eng/Maps-and-Data/Elevation-data/Download-Elevation-Data-p664.html\n",
    "\n",
    "#our areas arent coverd by 1 DSM so had to download 10 DSM images\n",
    "tiffs_path = ['473658_ndsm_abs_1m.tif','474658_ndsm_abs_1m.tif', '474659_ndsm_abs_1m.tif', '472657_ndsm_abs_1m.tif', #4 tifs that cover area 1\n",
    "              '471658_ndsm_abs_1m.tif','471657_ndsm_abs_1m.tif', '472658_ndsm_abs_1m.tif', '473659_ndsm_abs_1m.tif', #4 tifs that cover area 2\n",
    "             '474662_ndsm_abs_1m.tif', '473662_ndsm_abs_1m.tif' #2 tifs that cover area 3\n",
    "              ]\n",
    "\n",
    "tiffs_path = [s + \".\\\\raster\\\\\\dsm\\\\\" for s in tiffs_path]\n",
    "\n",
    "raster_to_mosaic = []\n",
    "\n",
    "for x in tiffs_path:\n",
    "    raster = rasterio.open(x)\n",
    "    raster_to_mosaic.append(raster)\n",
    "\n",
    "mosaic, output = merge(raster_to_mosaic) #merging all the listed DSM tifs together to create one\n",
    "\n",
    "output_meta = raster.meta.copy()\n",
    "output_meta.update({\n",
    "        'driver' :'GTiff',\n",
    "        'height': mosaic.shape[1],\n",
    "        'width': mosaic.shape[2],\n",
    "        'crs':'EPSG:3301',\n",
    "        'compress':'lzw',\n",
    "        'transform': output\n",
    "        })\n",
    "\n",
    "with rasterio.open('.\\\\raster\\\\dsm\\\\merged_DSM.tiff', 'w+', **output_meta) as m:\n",
    "        m.write(mosaic)"
   ]
  },
  {
   "cell_type": "code",
   "execution_count": null,
   "id": "2b4b9a15-fbbf-4b4b-8e43-abfdffe5383b",
   "metadata": {},
   "outputs": [],
   "source": [
    "#looking at the merged DSM\n",
    "dsm = rasterio.open('merged_DSM.tiff')\n",
    "show(dsm)\n",
    "print(dsm.crs) # Check the coordinate projection of the DSM"
   ]
  },
  {
   "cell_type": "markdown",
   "id": "5428a509-87c7-4c52-afb5-80d2e94b94dc",
   "metadata": {},
   "source": [
    "## clip the digital surface models to the sutdy areas"
   ]
  },
  {
   "cell_type": "code",
   "execution_count": null,
   "id": "e5da4b69-7ba0-4e89-96ed-d3458c3f8ab3",
   "metadata": {},
   "outputs": [],
   "source": [
    "#code help from:\n",
    "#https://kodu.ut.ee/~kmoch/geopython2022/L5/raster.html#clipping-a-raster\n",
    "\n",
    "#clipping the merged DSM with study areas\n",
    "\n",
    "for area in study_areas.area_n.unique():\n",
    "\n",
    "\n",
    "    selection = study_areas.loc[study_areas[\"area_n\"] == area]\n",
    "\n",
    "    out_image, out_transform = mask(dataset=dsm, shapes=selection['geometry'], crop=True) #masking the merged DSM with area 1 polygon\n",
    "    out_meta = dsm.meta.copy() #copyng the metadata from the merged DSM\n",
    "\n",
    "    out_meta.update({\"driver\": \"GTiff\",\n",
    "                 \"height\": out_image.shape[1],\n",
    "                 \"width\": out_image.shape[2],\n",
    "                 \"transform\": out_transform})\n",
    "    \n",
    "    #writing out area DSM\n",
    "    with rasterio.open(\".\\\\raster\\\\dsm\"+area+\"_dsm.tif\", \"w\", **out_meta) as dest: \n",
    "        dest.write(out_image)\n"
   ]
  },
  {
   "cell_type": "markdown",
   "id": "ab7151fb-f4de-47aa-9071-78249531ee0d",
   "metadata": {},
   "source": [
    "## Check the DSMs"
   ]
  },
  {
   "cell_type": "code",
   "execution_count": null,
   "id": "a732331b-1878-40e5-afec-8312be9c3bb2",
   "metadata": {},
   "outputs": [],
   "source": [
    "#looking at the results\n",
    "#area 1\n",
    "dsm_area_1 = rasterio.open(\".\\\\raster\\\\dsm\\\\area_1_dsm.tif\")\n",
    "show(dsm_area_1)\n",
    "print(dsm_area_1.crs) #cheking that we have the correct prjection (crs = 3301)\n",
    "\n",
    "#area 2\n",
    "dsm_area_2 = rasterio.open(\".\\\\raster\\\\dsm\\\\area_2_dsm.tif\")\n",
    "show(dsm_area_2)\n",
    "print(dsm_area_2.crs)\n",
    "\n",
    "#area 3\n",
    "dsm_area_3 = rasterio.open(\".\\\\raster\\\\dsm\\\\area_3_dsm.tif\")\n",
    "show(dsm_area_3)\n",
    "print(dsm_area_3.crs)"
   ]
  }
 ],
 "metadata": {
  "kernelspec": {
   "display_name": "gausconda",
   "language": "python",
   "name": "gausconda"
  },
  "language_info": {
   "codemirror_mode": {
    "name": "ipython",
    "version": 3
   },
   "file_extension": ".py",
   "mimetype": "text/x-python",
   "name": "python",
   "nbconvert_exporter": "python",
   "pygments_lexer": "ipython3",
   "version": "3.10.5"
  }
 },
 "nbformat": 4,
 "nbformat_minor": 5
}
